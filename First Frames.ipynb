{
 "cells": [
  {
   "cell_type": "markdown",
   "id": "43841f2c-c5c2-43cb-a86e-fad940e1d69d",
   "metadata": {},
   "source": [
    "# First Data Frames"
   ]
  },
  {
   "cell_type": "code",
   "execution_count": 1,
   "id": "f5dbf850-2752-4949-a9f9-58c59432c9e7",
   "metadata": {},
   "outputs": [],
   "source": [
    "import cv2\n",
    "import os\n",
    "import numpy as np\n",
    "import matplotlib.pyplot as plt"
   ]
  },
  {
   "cell_type": "markdown",
   "id": "da35a6ae-5ee1-4345-a6d2-7cb253bf89cf",
   "metadata": {},
   "source": [
    "# 1) Finds the Images Wanted"
   ]
  },
  {
   "cell_type": "code",
   "execution_count": 12,
   "id": "c5d5e3a0-3aa4-4968-afeb-a26f9cafe104",
   "metadata": {},
   "outputs": [],
   "source": [
    "vid_path = cv2.VideoCapture(\"C:\\\\Users\\josep\\Desktop\\Summer Research Project\\Pictures\\joseph3.mp4\")"
   ]
  },
  {
   "cell_type": "code",
   "execution_count": 87,
   "id": "c73ae856-24bf-4b56-881f-a1290153ae11",
   "metadata": {},
   "outputs": [
    {
     "name": "stdout",
     "output_type": "stream",
     "text": [
      "Video file opened successfully\n",
      "Total number of frames: 886\n"
     ]
    }
   ],
   "source": [
    "import os\n",
    "import cv2\n",
    "\n",
    "# Define the video file path\n",
    "video_path = r'C:\\Users\\josep\\Desktop\\Summer Research Project\\Pictures\\joseph5.mp4'\n",
    "\n",
    "# Check if the file exists\n",
    "if not os.path.isfile(video_path):\n",
    "    print(f\"File {video_path} does not exist\")\n",
    "else:\n",
    "    # Attempt to open the video file\n",
    "    cap = cv2.VideoCapture(video_path)\n",
    "    if not cap.isOpened():\n",
    "        print(\"Error opening video stream or file\")\n",
    "    else:\n",
    "        print(\"Video file opened successfully\")\n",
    "        \n",
    "        # Get the total number of frames in the video\n",
    "        total_frames = int(cap.get(cv2.CAP_PROP_FRAME_COUNT))\n",
    "        print(f\"Total number of frames: {total_frames}\")\n",
    "        \n",
    "        # You can add additional code here to process the video\n",
    "        # For example, read frames or display the video\n",
    "        while True:\n",
    "            ret, frame = cap.read()\n",
    "            if not ret:\n",
    "                break\n",
    "            cv2.imshow('Frame', frame)\n",
    "            #if cv2.waitKey(25) & 0xFF == ord('q'):\n",
    "             #   break\n",
    "        cap.release()\n",
    "        cv2.destroyAllWindows()\n"
   ]
  },
  {
   "cell_type": "code",
   "execution_count": 104,
   "id": "8a4d3ab8-b199-4bb7-969d-ca58f541d023",
   "metadata": {},
   "outputs": [
    {
     "name": "stdout",
     "output_type": "stream",
     "text": [
      "Video file opened successfully\n",
      "Frame 149 saved to C:\\Users\\josep\\Downloads\\frame_149.jpg\n"
     ]
    }
   ],
   "source": [
    "import os\n",
    "import cv2\n",
    "\n",
    "# Define the video file path\n",
    "video_path = r'C:\\Users\\josep\\Desktop\\Summer Research Project\\Pictures\\joseph5.mp4'\n",
    "\n",
    "# Check if the file exists\n",
    "if not os.path.isfile(video_path):\n",
    "    print(f\"File {video_path} does not exist\")\n",
    "else:\n",
    "    # Attempt to open the video file\n",
    "    cap = cv2.VideoCapture(video_path)\n",
    "    if not cap.isOpened():\n",
    "        print(\"Error opening video stream or file\")\n",
    "    else:\n",
    "        print(\"Video file opened successfully\")\n",
    "        \n",
    "        # Set the frame position to the 200th frame\n",
    "        frame_number = 149\n",
    "        cap.set(cv2.CAP_PROP_POS_FRAMES, frame_number)\n",
    "        \n",
    "        # Read the 200th frame\n",
    "        ret, frame = cap.read()\n",
    "\n",
    "        # Define the output image file path\n",
    "        output_image_path = rf\"C:\\Users\\josep\\Downloads\\frame_{frame_number}.jpg\"\n",
    "        if ret:\n",
    "            # Save the frame as an image file\n",
    "            cv2.imwrite(output_image_path, frame)\n",
    "            print(f\"Frame {frame_number} saved to {output_image_path}\")\n",
    "        else:\n",
    "            print(f\"Could not read frame {frame_number}\")\n",
    "\n",
    "        \n",
    "        cap.release()\n"
   ]
  },
  {
   "cell_type": "markdown",
   "id": "da8432c8-3a6d-49ea-a6c6-b9b088a82cf3",
   "metadata": {},
   "source": [
    "# 2) Calculates Velocity"
   ]
  },
  {
   "cell_type": "markdown",
   "id": "4676dab4-863b-4931-bc25-42e036737b96",
   "metadata": {},
   "source": [
    "## 2.1) Joseph1"
   ]
  },
  {
   "cell_type": "code",
   "execution_count": 2,
   "id": "78bb435e-7521-4d8c-ab46-b7eaddafd2a7",
   "metadata": {},
   "outputs": [
    {
     "data": {
      "text/plain": [
       "0.0011079136690647481"
      ]
     },
     "execution_count": 2,
     "metadata": {},
     "output_type": "execute_result"
    }
   ],
   "source": [
    "distance1 = 4*(10**-3)*(0.77/2.78)\n",
    "distance1"
   ]
  },
  {
   "cell_type": "code",
   "execution_count": 3,
   "id": "b500b6d1-2ba3-4011-9abd-ff05fc6a516d",
   "metadata": {},
   "outputs": [],
   "source": [
    "frame_rate = 3030.817\n",
    "time1 = 1/frame_rate"
   ]
  },
  {
   "cell_type": "code",
   "execution_count": 4,
   "id": "91932364-d173-498f-bae9-22deeed66058",
   "metadata": {},
   "outputs": [
    {
     "data": {
      "text/plain": [
       "3.3578835827338125"
      ]
     },
     "execution_count": 4,
     "metadata": {},
     "output_type": "execute_result"
    }
   ],
   "source": [
    "v1 = distance1 / time1\n",
    "v1"
   ]
  },
  {
   "cell_type": "markdown",
   "id": "ffd55f5e-ef54-49ae-8335-9c7f63bc4dab",
   "metadata": {},
   "source": [
    "## 2.2) Joseph2"
   ]
  },
  {
   "cell_type": "code",
   "execution_count": 5,
   "id": "73392062-9867-4cf3-b661-76f46f3d690c",
   "metadata": {},
   "outputs": [
    {
     "data": {
      "text/plain": [
       "0.0006821705426356589"
      ]
     },
     "execution_count": 5,
     "metadata": {},
     "output_type": "execute_result"
    }
   ],
   "source": [
    "distance2 = 4*(10**-3)*(0.44/2.58)\n",
    "distance2"
   ]
  },
  {
   "cell_type": "code",
   "execution_count": 6,
   "id": "579529fe-ab30-456a-b5c4-c20b5f7daf49",
   "metadata": {},
   "outputs": [],
   "source": [
    "frame_rate = 3030.817\n",
    "time2 = 1/frame_rate"
   ]
  },
  {
   "cell_type": "code",
   "execution_count": 7,
   "id": "a1176bbe-7729-4c92-99e4-270f57191d39",
   "metadata": {},
   "outputs": [
    {
     "data": {
      "text/plain": [
       "2.0675340775193796"
      ]
     },
     "execution_count": 7,
     "metadata": {},
     "output_type": "execute_result"
    }
   ],
   "source": [
    "v2 = distance2 / time2\n",
    "v2"
   ]
  },
  {
   "cell_type": "markdown",
   "id": "f6dd2d85-df5d-4fd9-9617-a54ee15dad19",
   "metadata": {},
   "source": [
    "## 2.3) Joseph3"
   ]
  },
  {
   "cell_type": "code",
   "execution_count": 8,
   "id": "68bba871-d3e7-459d-ab62-3cd11d1988fe",
   "metadata": {},
   "outputs": [
    {
     "data": {
      "text/plain": [
       "0.0004110671936758894"
      ]
     },
     "execution_count": 8,
     "metadata": {},
     "output_type": "execute_result"
    }
   ],
   "source": [
    "distance3 = 4*(10**-3)*(0.26/2.53)\n",
    "distance3"
   ]
  },
  {
   "cell_type": "code",
   "execution_count": 9,
   "id": "3b17476a-32d8-4252-b007-ba15fd74a3ba",
   "metadata": {},
   "outputs": [],
   "source": [
    "frame_rate = 3030.817\n",
    "time3 = 1/frame_rate"
   ]
  },
  {
   "cell_type": "code",
   "execution_count": 10,
   "id": "e554c19c-acce-4814-a94c-47ab2fcce7fe",
   "metadata": {},
   "outputs": [
    {
     "data": {
      "text/plain": [
       "1.2458694387351779"
      ]
     },
     "execution_count": 10,
     "metadata": {},
     "output_type": "execute_result"
    }
   ],
   "source": [
    "v3 = distance3 / time3\n",
    "v3"
   ]
  },
  {
   "cell_type": "markdown",
   "id": "e184e897-a562-4ee3-929f-9bf670fff4e6",
   "metadata": {},
   "source": [
    "## 2.4) Joseph3_bubble"
   ]
  },
  {
   "cell_type": "code",
   "execution_count": 11,
   "id": "77a68a5d-3831-4855-ad7a-581195abdb66",
   "metadata": {},
   "outputs": [
    {
     "data": {
      "text/plain": [
       "0.00036"
      ]
     },
     "execution_count": 11,
     "metadata": {},
     "output_type": "execute_result"
    }
   ],
   "source": [
    "distance3_bub = 4*(10**-3)*(0.27/3)\n",
    "distance3_bub"
   ]
  },
  {
   "cell_type": "code",
   "execution_count": 12,
   "id": "e61ad401-16ff-44cd-8884-698c87879b0b",
   "metadata": {},
   "outputs": [],
   "source": [
    "frame_rate = 3030.817\n",
    "time3_bub = 1/frame_rate"
   ]
  },
  {
   "cell_type": "code",
   "execution_count": 13,
   "id": "8d166257-fd73-498b-a8ce-97eb6ec9b4de",
   "metadata": {},
   "outputs": [
    {
     "data": {
      "text/plain": [
       "1.09109412"
      ]
     },
     "execution_count": 13,
     "metadata": {},
     "output_type": "execute_result"
    }
   ],
   "source": [
    "v3_bub = distance3_bub / time3_bub\n",
    "v3_bub"
   ]
  },
  {
   "cell_type": "markdown",
   "id": "7f128c3d-10e0-46c9-a6db-934deefcf52f",
   "metadata": {},
   "source": [
    "## 2.5) Joseph4"
   ]
  },
  {
   "cell_type": "code",
   "execution_count": 14,
   "id": "b0645208-c2d2-4238-9dce-482da3eb62aa",
   "metadata": {},
   "outputs": [
    {
     "data": {
      "text/plain": [
       "0.0009111969111969112"
      ]
     },
     "execution_count": 14,
     "metadata": {},
     "output_type": "execute_result"
    }
   ],
   "source": [
    "distance4 = 4*(10**-3)*(0.59/2.59)\n",
    "distance4"
   ]
  },
  {
   "cell_type": "code",
   "execution_count": 15,
   "id": "1c9beefc-45a0-42b9-a0f2-906acbe46afc",
   "metadata": {},
   "outputs": [],
   "source": [
    "frame_rate = 3030.817\n",
    "time4 = 1/frame_rate"
   ]
  },
  {
   "cell_type": "code",
   "execution_count": 16,
   "id": "c788c05b-97e7-4818-a92f-3bcacfee1407",
   "metadata": {},
   "outputs": [
    {
     "data": {
      "text/plain": [
       "2.7616710888030886"
      ]
     },
     "execution_count": 16,
     "metadata": {},
     "output_type": "execute_result"
    }
   ],
   "source": [
    "v4 = distance4 / time4\n",
    "v4"
   ]
  },
  {
   "cell_type": "markdown",
   "id": "fb2c7f37-2591-49e4-bd4f-c24e524917c4",
   "metadata": {},
   "source": [
    "## 2.6) Joseph5"
   ]
  },
  {
   "cell_type": "code",
   "execution_count": 17,
   "id": "fabbcd8c-8bb9-4539-ac01-33d5e6be2e73",
   "metadata": {},
   "outputs": [
    {
     "data": {
      "text/plain": [
       "0.00023188405797101454"
      ]
     },
     "execution_count": 17,
     "metadata": {},
     "output_type": "execute_result"
    }
   ],
   "source": [
    "distance5 = 4*(10**-3)*(0.16/2.76)\n",
    "distance5"
   ]
  },
  {
   "cell_type": "code",
   "execution_count": 18,
   "id": "ec030744-1e17-4527-917d-fbaabc3f71be",
   "metadata": {},
   "outputs": [],
   "source": [
    "frame_rate = 4532\n",
    "time5 = 1/frame_rate"
   ]
  },
  {
   "cell_type": "code",
   "execution_count": 19,
   "id": "21a7993a-2b9c-4042-8bd1-123e364f7c89",
   "metadata": {},
   "outputs": [
    {
     "data": {
      "text/plain": [
       "1.0508985507246378"
      ]
     },
     "execution_count": 19,
     "metadata": {},
     "output_type": "execute_result"
    }
   ],
   "source": [
    "v5 = distance5 / time5\n",
    "v5"
   ]
  },
  {
   "cell_type": "markdown",
   "id": "af17f475-66e6-4b20-9f00-11dbdf37a595",
   "metadata": {},
   "source": [
    "# 3) Compare to $\\sqrt{gh}$"
   ]
  },
  {
   "cell_type": "code",
   "execution_count": 20,
   "id": "d4b6183b-8136-4ad7-9fb4-467a466431f7",
   "metadata": {},
   "outputs": [],
   "source": [
    "v = np.array([v1, v2, v3, v3_bub, v4, v5])"
   ]
  },
  {
   "cell_type": "code",
   "execution_count": 21,
   "id": "f593a068-bd7b-40cf-bbbf-f7f6fcddd0e1",
   "metadata": {},
   "outputs": [],
   "source": [
    "h = np.array([0.548, 0.4, 0.13, 0.13, 0.812, 0.085])\n",
    "g = 9.81"
   ]
  },
  {
   "cell_type": "code",
   "execution_count": 22,
   "id": "e5e3ba0a-385a-4d37-ab82-063e25cee565",
   "metadata": {},
   "outputs": [],
   "source": [
    "x = np.sqrt(g*h)"
   ]
  },
  {
   "cell_type": "code",
   "execution_count": 23,
   "id": "4a75bba1-9de6-4dfb-95a1-a1e1f2c788e6",
   "metadata": {},
   "outputs": [
    {
     "data": {
      "text/plain": [
       "(-0.1, 4.0)"
      ]
     },
     "execution_count": 23,
     "metadata": {},
     "output_type": "execute_result"
    },
    {
     "data": {
      "image/png": "[encoded data removed]",
      "text/plain": [
       "<Figure size 640x480 with 1 Axes>"
      ]
     },
     "metadata": {},
     "output_type": "display_data"
    }
   ],
   "source": [
    "plt.scatter(x, v)\n",
    "\n",
    "labels = [\"joseph1\", \"joseph2\", \"joseph3\", \"joseph3_bub\", \"joseph4\", \"joseph5\"]\n",
    "for i, label in enumerate(labels):\n",
    "    if label == \"joseph3_bub\":\n",
    "        plt.text(x[i] + 0.1, v[i], label, ha='left')  # To the right\n",
    "    elif label == \"joseph5\":\n",
    "        plt.text(x[i] - 0.1, v[i], label, ha='right')  # To the left\n",
    "    else:\n",
    "        plt.text(x[i], v[i] + 0.1, label, ha='center')  # Above the point\n",
    "\n",
    "x_vals = np.linspace(0, 3.5, 100)\n",
    "y_vals = x_vals \n",
    "\n",
    "plt.plot(x_vals, y_vals, label='f(x) = x', color='red')\n",
    "\n",
    "plt.xlabel(\"$\\sqrt{gh}$\")\n",
    "plt.ylabel(\"v\")\n",
    "plt.grid(True)\n",
    "plt.legend()\n",
    "\n",
    "plt.xlim(-0.1, 4)\n",
    "plt.ylim(-0.1, 4)"
   ]
  },
  {
   "cell_type": "code",
   "execution_count": null,
   "id": "cd37fce1-598d-45fe-8383-62d9272c9677",
   "metadata": {},
   "outputs": [],
   "source": []
  },
  {
   "cell_type": "code",
   "execution_count": null,
   "id": "afdd193d-8dd5-488e-a6ba-3fc69e853321",
   "metadata": {},
   "outputs": [],
   "source": []
  },
  {
   "cell_type": "code",
   "execution_count": null,
   "id": "3d0f13fe-9e2b-4d70-8e4f-830207bae78a",
   "metadata": {},
   "outputs": [],
   "source": []
  },
  {
   "cell_type": "code",
   "execution_count": null,
   "id": "aca2a92b-bb15-4d9f-b4b0-18532a94f588",
   "metadata": {},
   "outputs": [],
   "source": []
  },
  {
   "cell_type": "code",
   "execution_count": null,
   "id": "957554be-1449-4c4f-8a09-ad2d2a7fb7dd",
   "metadata": {},
   "outputs": [],
   "source": []
  },
  {
   "cell_type": "code",
   "execution_count": null,
   "id": "88956513-797f-4f24-af6f-3b6097a027dd",
   "metadata": {},
   "outputs": [],
   "source": []
  },
  {
   "cell_type": "code",
   "execution_count": null,
   "id": "613d860d-8246-481f-b65e-36ce628564c4",
   "metadata": {},
   "outputs": [],
   "source": []
  }
 ],
 "metadata": {
  "kernelspec": {
   "display_name": "Python 3 (ipykernel)",
   "language": "python",
   "name": "python3"
  },
  "language_info": {
   "codemirror_mode": {
    "name": "ipython",
    "version": 3
   },
   "file_extension": ".py",
   "mimetype": "text/x-python",
   "name": "python",
   "nbconvert_exporter": "python",
   "pygments_lexer": "ipython3",
   "version": "3.11.7"
  }
 },
 "nbformat": 4,
 "nbformat_minor": 5
}
